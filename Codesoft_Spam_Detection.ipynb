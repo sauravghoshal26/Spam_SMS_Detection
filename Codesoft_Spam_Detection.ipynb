{ 
  "nbformat": 4,
  "nbformat_minor": 0,
  "metadata": {
    "colab": {
      "provenance": []
    },
    "kernelspec": {
      "name": "python3",
      "display_name": "Python 3"
    },
    "language_info": {
      "name": "python"
    }
  },
  "cells": [
    {
      "cell_type": "code",
      "execution_count": 3,
      "metadata": {
        "colab": {
          "base_uri": "https://localhost:8080/"
        },
        "id": "LrUDpiqpiKku",
        "outputId": "40de2861-df21-447a-b7e3-1d5c1d637a7f"
      },
      "outputs": [
        {
          "output_type": "stream",
          "name": "stdout",
          "text": [
            "Index(['v1', 'v2', 'Unnamed: 2', 'Unnamed: 3', 'Unnamed: 4'], dtype='object')\n"
          ]
        }
      ],
      "source": [
        "import pandas as pd\n",
        "from sklearn.feature_extraction.text import TfidfVectorizer\n",
        "from sklearn.model_selection import train_test_split\n",
        "from sklearn.linear_model import LogisticRegression\n",
        "from sklearn.metrics import accuracy_score, classification_report\n",
        "\n",
        "# Load the SMS dataset with specified encoding\n",
        "sms_data = pd.read_csv('spam.csv', encoding='latin1')  # Update the filename and encoding as necessary\n",
        "\n",
        "\n",
        "print(sms_data.columns)"
      ]
    },
    {
      "cell_type": "code",
      "source": [
        "# Drop the last three columns if they are empty\n",
        "sms_data = sms_data.iloc[:, :-3].dropna(axis=1, how='all')"
      ],
      "metadata": {
        "id": "JoqbPc6QjmwH"
      },
      "execution_count": 4,
      "outputs": []
    },
    {
      "cell_type": "code",
      "source": [
        "print(sms_data.columns)"
      ],
      "metadata": {
        "colab": {
          "base_uri": "https://localhost:8080/"
        },
        "id": "6lLXmF-njjQs",
        "outputId": "d65e4f35-9744-4c5c-80af-30bdbfe573d7"
      },
      "execution_count": 5,
      "outputs": [
        {
          "output_type": "stream",
          "name": "stdout",
          "text": [
            "Index(['v1', 'v2'], dtype='object')\n"
          ]
        }
      ]
    },
    {
      "cell_type": "code",
      "source": [
        "# Preprocess the SMS messages\n",
        "sms_data['v2'] = sms_data['v2'].str.lower()  # Convert text to lowercase"
      ],
      "metadata": {
        "id": "yrL166g5jl-5"
      },
      "execution_count": 7,
      "outputs": []
    },
    {
      "cell_type": "code",
      "source": [
        "# Vectorize the SMS messages using TF-IDF\n",
        "vectorizer = TfidfVectorizer(max_features=5000)  # Define TF-IDF vectorizer\n",
        "X = vectorizer.fit_transform(sms_data['v2'])  # Vectorize SMS messages\n",
        "y = sms_data['v1']  # Target variable\n",
        "\n",
        "# Split the dataset into training and testing sets\n",
        "X_train, X_test, y_train, y_test = train_test_split(X, y, test_size=0.2, random_state=42)\n",
        "\n",
        "# Initialize and train Logistic Regression classifier\n",
        "logistic_classifier = LogisticRegression(max_iter=1000)  # Initialize Logistic Regression classifier\n",
        "logistic_classifier.fit(X_train, y_train)  # Train the model\n",
        "\n",
        "# Make predictions on the test set\n",
        "y_pred = logistic_classifier.predict(X_test)\n",
        "\n",
        "# Evaluate the model\n",
        "accuracy = accuracy_score(y_test, y_pred)\n",
        "print(f\"Accuracy: {accuracy:.2f}\")\n",
        "\n"
      ],
      "metadata": {
        "colab": {
          "base_uri": "https://localhost:8080/"
        },
        "id": "Bnwcs7adidL8",
        "outputId": "cfeaffab-2b7d-401f-c566-b462252b0235"
      },
      "execution_count": 10,
      "outputs": [
        {
          "output_type": "stream",
          "name": "stdout",
          "text": [
            "Accuracy: 0.96\n"
          ]
        }
      ]
    },
    {
      "cell_type": "code",
      "source": [
        "print(\"Classification Report:\")\n",
        "print(classification_report(y_test, y_pred))"
      ],
      "metadata": {
        "colab": {
          "base_uri": "https://localhost:8080/"
        },
        "id": "8p3xKtHSj3Hg",
        "outputId": "5de0e1b5-afac-442a-9aef-d07697dc0cbc"
      },
      "execution_count": 11,
      "outputs": [
        {
          "output_type": "stream",
          "name": "stdout",
          "text": [
            "Classification Report:\n",
            "              precision    recall  f1-score   support\n",
            "\n",
            "         ham       0.96      1.00      0.98       965\n",
            "        spam       1.00      0.73      0.84       150\n",
            "\n",
            "    accuracy                           0.96      1115\n",
            "   macro avg       0.98      0.86      0.91      1115\n",
            "weighted avg       0.96      0.96      0.96      1115\n",
            "\n"
          ]
        }
      ]
    },
    {
      "cell_type": "code",
      "source": [],
      "metadata": {
        "id": "0K8jU7uglahC"
      },
      "execution_count": null,
      "outputs": []
    }
  ]
}
